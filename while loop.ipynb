{
  "nbformat": 4,
  "nbformat_minor": 0,
  "metadata": {
    "colab": {
      "provenance": [],
      "authorship_tag": "ABX9TyPQwMSXYuvPGo5lXG/cMDZR",
      "include_colab_link": true
    },
    "kernelspec": {
      "name": "python3",
      "display_name": "Python 3"
    },
    "language_info": {
      "name": "python"
    }
  },
  "cells": [
    {
      "cell_type": "markdown",
      "metadata": {
        "id": "view-in-github",
        "colab_type": "text"
      },
      "source": [
        "<a href=\"https://colab.research.google.com/github/VishalShinde3/loop/blob/main/while%20loop.ipynb\" target=\"_parent\"><img src=\"https://colab.research.google.com/assets/colab-badge.svg\" alt=\"Open In Colab\"/></a>"
      ]
    },
    {
      "cell_type": "code",
      "execution_count": 7,
      "metadata": {
        "id": "qwzcJLrtVUQO"
      },
      "outputs": [],
      "source": [
        "# write program on while loop the folloeing series 105,98,91,--------,7.\n",
        "num=105\n",
        "while(num<=7):\n",
        "  print(num)\n",
        "  num=num-7"
      ]
    },
    {
      "cell_type": "code",
      "source": [
        "# program on first 10 natural no in reversr order\n",
        "num=10\n",
        "while num>=1:\n",
        "  print(num)\n",
        "  num=num-1\n"
      ],
      "metadata": {
        "colab": {
          "base_uri": "https://localhost:8080/"
        },
        "id": "cIcLDK6-WRxs",
        "outputId": "f7f87301-b148-4c1f-f178-c4ae0a9350b4"
      },
      "execution_count": 5,
      "outputs": [
        {
          "output_type": "stream",
          "name": "stdout",
          "text": [
            "10\n",
            "9\n",
            "8\n",
            "7\n",
            "6\n",
            "5\n",
            "4\n",
            "3\n",
            "2\n",
            "1\n"
          ]
        }
      ]
    },
    {
      "cell_type": "code",
      "source": [
        "# program on first 10 natural no sum\n",
        "num=10\n",
        "sum=0\n",
        "while num>=1:\n",
        "  sum= sum+num\n",
        "  num=num-1\n",
        "  print(sum)\n",
        "  "
      ],
      "metadata": {
        "colab": {
          "base_uri": "https://localhost:8080/"
        },
        "id": "fQOrz7rUW8KH",
        "outputId": "d876cda4-9967-42d0-e035-fe176c7e6c9e"
      },
      "execution_count": 12,
      "outputs": [
        {
          "output_type": "stream",
          "name": "stdout",
          "text": [
            "10\n",
            "19\n",
            "27\n",
            "34\n",
            "40\n",
            "45\n",
            "49\n",
            "52\n",
            "54\n",
            "55\n"
          ]
        }
      ]
    },
    {
      "cell_type": "code",
      "source": [
        "# write program on sum first 10 even no\n",
        "num=2\n",
        "sum=0\n",
        "while num<=20:\n",
        "  sum=sum+num\n",
        "  num=num+2\n",
        "  print(sum)"
      ],
      "metadata": {
        "colab": {
          "base_uri": "https://localhost:8080/"
        },
        "id": "sNPWyen2X5hW",
        "outputId": "e34099f5-6568-4b29-e94f-7485a4b56ee1"
      },
      "execution_count": 13,
      "outputs": [
        {
          "output_type": "stream",
          "name": "stdout",
          "text": [
            "2\n",
            "6\n",
            "12\n",
            "20\n",
            "30\n",
            "42\n",
            "56\n",
            "72\n",
            "90\n",
            "110\n"
          ]
        }
      ]
    },
    {
      "cell_type": "code",
      "source": [
        "# program on print table of a no entered from users\n",
        "i=1\n",
        "num=int(input(\"enter the no: \"))\n",
        "while i<=10:\n",
        "  print(num,\"*\",i,\"=\",num*i)\n",
        "  i=i+1\n"
      ],
      "metadata": {
        "colab": {
          "base_uri": "https://localhost:8080/"
        },
        "id": "2za1j_PwYmMi",
        "outputId": "d26efe50-f2ad-47f7-c66d-3534c9f1ff81"
      },
      "execution_count": 15,
      "outputs": [
        {
          "output_type": "stream",
          "name": "stdout",
          "text": [
            "enter the no: 7\n",
            "7 * 1 = 7\n",
            "7 * 2 = 14\n",
            "7 * 3 = 21\n",
            "7 * 4 = 28\n",
            "7 * 5 = 35\n",
            "7 * 6 = 42\n",
            "7 * 7 = 49\n",
            "7 * 8 = 56\n",
            "7 * 9 = 63\n",
            "7 * 10 = 70\n"
          ]
        }
      ]
    },
    {
      "cell_type": "code",
      "source": [],
      "metadata": {
        "id": "2QkEIoAwZaMZ"
      },
      "execution_count": null,
      "outputs": []
    }
  ]
}