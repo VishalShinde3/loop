{
  "nbformat": 4,
  "nbformat_minor": 0,
  "metadata": {
    "colab": {
      "provenance": [],
      "authorship_tag": "ABX9TyODvqC51v0Sdn2m6FK6ZOj8",
      "include_colab_link": true
    },
    "kernelspec": {
      "name": "python3",
      "display_name": "Python 3"
    },
    "language_info": {
      "name": "python"
    }
  },
  "cells": [
    {
      "cell_type": "markdown",
      "metadata": {
        "id": "view-in-github",
        "colab_type": "text"
      },
      "source": [
        "<a href=\"https://colab.research.google.com/github/VishalShinde3/loop/blob/main/Untitled15.ipynb\" target=\"_parent\"><img src=\"https://colab.research.google.com/assets/colab-badge.svg\" alt=\"Open In Colab\"/></a>"
      ]
    },
    {
      "cell_type": "code",
      "execution_count": 27,
      "metadata": {
        "colab": {
          "base_uri": "https://localhost:8080/"
        },
        "id": "Q0W7rdt5fG0D",
        "outputId": "1bd79cad-820a-466e-e7f2-6e31aeba0898"
      },
      "outputs": [
        {
          "output_type": "stream",
          "name": "stdout",
          "text": [
            "0\n",
            "1\n",
            "2\n",
            "3\n",
            "4\n",
            "5\n",
            "6\n",
            "7\n",
            "8\n",
            "9\n",
            "10\n",
            "11\n",
            "12\n",
            "13\n",
            "14\n",
            "15\n",
            "16\n",
            "17\n",
            "18\n",
            "19\n",
            "20\n",
            "21\n",
            "22\n",
            "23\n",
            "24\n",
            "25\n",
            "26\n",
            "27\n",
            "28\n",
            "29\n",
            "30\n",
            "31\n",
            "32\n",
            "33\n",
            "34\n",
            "35\n",
            "36\n",
            "37\n",
            "38\n",
            "39\n",
            "40\n",
            "41\n",
            "42\n",
            "43\n",
            "44\n",
            "45\n",
            "46\n",
            "47\n",
            "48\n",
            "49\n",
            "50\n",
            "51\n",
            "52\n",
            "53\n",
            "54\n"
          ]
        }
      ],
      "source": [
        "# loops program\n",
        "for i in range(100):\n",
        "  if i==55:break \n",
        "  print(i)\n",
        "  \n",
        "else:\n",
        "    print(\"finally finished\")  \n",
        "    \n",
        "    "
      ]
    },
    {
      "cell_type": "code",
      "source": [
        "# nested loop \n",
        "fruit=[\"apple\",\"mango\",\"grapes\"]\n",
        "adj=[\"red\",\"testy\",\"sour\"]\n",
        "for x in fruit:\n",
        "     for y in adj:\n",
        "       print(x,' ',y)"
      ],
      "metadata": {
        "colab": {
          "base_uri": "https://localhost:8080/"
        },
        "id": "xZ7gW7IWhewT",
        "outputId": "0e0fe25e-ed29-45cc-89be-aed0bf2290ad"
      },
      "execution_count": 26,
      "outputs": [
        {
          "output_type": "stream",
          "name": "stdout",
          "text": [
            "apple   red\n",
            "apple   testy\n",
            "apple   sour\n",
            "mango   red\n",
            "mango   testy\n",
            "mango   sour\n",
            "grapes   red\n",
            "grapes   testy\n",
            "grapes   sour\n"
          ]
        }
      ]
    }
  ]
}