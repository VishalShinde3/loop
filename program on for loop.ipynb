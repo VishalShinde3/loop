{
  "nbformat": 4,
  "nbformat_minor": 0,
  "metadata": {
    "colab": {
      "provenance": [],
      "authorship_tag": "ABX9TyN61b2hDBEDoLXSwrd88uBl",
      "include_colab_link": true
    },
    "kernelspec": {
      "name": "python3",
      "display_name": "Python 3"
    },
    "language_info": {
      "name": "python"
    }
  },
  "cells": [
    {
      "cell_type": "markdown",
      "metadata": {
        "id": "view-in-github",
        "colab_type": "text"
      },
      "source": [
        "<a href=\"https://colab.research.google.com/github/VishalShinde3/loop/blob/main/program%20on%20for%20loop.ipynb\" target=\"_parent\"><img src=\"https://colab.research.google.com/assets/colab-badge.svg\" alt=\"Open In Colab\"/></a>"
      ]
    },
    {
      "cell_type": "code",
      "execution_count": 5,
      "metadata": {
        "colab": {
          "base_uri": "https://localhost:8080/"
        },
        "id": "qA-CQVBK1zyO",
        "outputId": "1b713f9a-1bce-4268-a67e-bdf3064fce3f"
      },
      "outputs": [
        {
          "output_type": "stream",
          "name": "stdout",
          "text": [
            "0\n",
            "2\n",
            "4\n",
            "6\n",
            "8\n",
            "10\n"
          ]
        }
      ],
      "source": [
        "# 10 even,odd,natural,whole\n",
        "for i in range(0,11):\n",
        "  if i%2==0:\n",
        "    print(i)\n"
      ]
    },
    {
      "cell_type": "code",
      "source": [
        "#  integer of their square first 10\n",
        "for i in range(1,11):\n",
        "  print(i,'\\t',i*i)"
      ],
      "metadata": {
        "colab": {
          "base_uri": "https://localhost:8080/"
        },
        "id": "hYrYTQvq2hFs",
        "outputId": "aecd941f-4e92-4373-8bd0-cf868cb879e8"
      },
      "execution_count": 6,
      "outputs": [
        {
          "output_type": "stream",
          "name": "stdout",
          "text": [
            "1 \t 1\n",
            "2 \t 4\n",
            "3 \t 9\n",
            "4 \t 16\n",
            "5 \t 25\n",
            "6 \t 36\n",
            "7 \t 49\n",
            "8 \t 64\n",
            "9 \t 81\n",
            "10 \t 100\n"
          ]
        }
      ]
    },
    {
      "cell_type": "code",
      "source": [
        "#10,20,30,40,----------,300\n",
        "for i in range (1,31):\n",
        "  print(i*10,end=\" \")"
      ],
      "metadata": {
        "colab": {
          "base_uri": "https://localhost:8080/"
        },
        "id": "SYeEt2KW3NFl",
        "outputId": "f41dffd2-736f-4f6b-828f-121de5b7ab4a"
      },
      "execution_count": 7,
      "outputs": [
        {
          "output_type": "stream",
          "name": "stdout",
          "text": [
            "10 20 30 40 50 60 70 80 90 100 110 120 130 140 150 160 170 180 190 200 210 220 230 240 250 260 270 280 290 300 "
          ]
        }
      ]
    },
    {
      "cell_type": "code",
      "source": [
        "# 105,98,91,--------,7\n",
        "for i in range(105,6,-7):\n",
        "  print(i,end=\" \")"
      ],
      "metadata": {
        "colab": {
          "base_uri": "https://localhost:8080/"
        },
        "id": "nhRGFd7N3q2L",
        "outputId": "2492edee-6c15-4fed-8097-524cde11015d"
      },
      "execution_count": 9,
      "outputs": [
        {
          "output_type": "stream",
          "name": "stdout",
          "text": [
            "105 98 91 84 77 70 63 56 49 42 35 28 21 14 7 "
          ]
        }
      ]
    },
    {
      "cell_type": "code",
      "source": [
        "# table 9 reverse\n",
        "for i in range(108,8,-9):\n",
        "  print(i,end=\" \")"
      ],
      "metadata": {
        "colab": {
          "base_uri": "https://localhost:8080/"
        },
        "id": "HsJj-Isf4Ia9",
        "outputId": "07e4f07b-415a-4358-f472-092e824767bc"
      },
      "execution_count": 10,
      "outputs": [
        {
          "output_type": "stream",
          "name": "stdout",
          "text": [
            "108 99 90 81 72 63 54 45 36 27 18 9 "
          ]
        }
      ]
    },
    {
      "cell_type": "code",
      "source": [
        "# first 10 natural no reverse\n",
        "for i in range(10,1,-1):\n",
        "  print(i,end=\" \")"
      ],
      "metadata": {
        "colab": {
          "base_uri": "https://localhost:8080/"
        },
        "id": "-Q3ErRCl4c9S",
        "outputId": "9e996202-34a8-476c-a79f-c2501dfe4f6f"
      },
      "execution_count": 21,
      "outputs": [
        {
          "output_type": "stream",
          "name": "stdout",
          "text": [
            "10 9 8 7 6 5 4 3 2 "
          ]
        }
      ]
    },
    {
      "cell_type": "code",
      "source": [
        "#sum of first 10 natural no\n",
        "sum=0\n",
        "for i in range(0,10):\n",
        "  sum=sum+i\n",
        "print(sum)"
      ],
      "metadata": {
        "colab": {
          "base_uri": "https://localhost:8080/"
        },
        "id": "DfBr28Lh5EpO",
        "outputId": "ebf79d27-b426-4314-e561-8ff57d0f7aa9"
      },
      "execution_count": 18,
      "outputs": [
        {
          "output_type": "stream",
          "name": "stdout",
          "text": [
            "45\n"
          ]
        }
      ]
    },
    {
      "cell_type": "code",
      "source": [
        "#sum of 10 even no\n",
        "sum=0\n",
        "for i in range(1,21):\n",
        "  if i%2==0:\n",
        "    sum=sum+i\n",
        "print(sum)"
      ],
      "metadata": {
        "colab": {
          "base_uri": "https://localhost:8080/"
        },
        "id": "PITMjo_q5egK",
        "outputId": "065e9fd2-0d17-4835-b30b-a71462974004"
      },
      "execution_count": 17,
      "outputs": [
        {
          "output_type": "stream",
          "name": "stdout",
          "text": [
            "110\n"
          ]
        }
      ]
    }
  ]
}