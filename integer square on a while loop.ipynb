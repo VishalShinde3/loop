{
  "nbformat": 4,
  "nbformat_minor": 0,
  "metadata": {
    "colab": {
      "provenance": [],
      "authorship_tag": "ABX9TyNsfMMAXMfNytm/gZKCixVZ",
      "include_colab_link": true
    },
    "kernelspec": {
      "name": "python3",
      "display_name": "Python 3"
    },
    "language_info": {
      "name": "python"
    }
  },
  "cells": [
    {
      "cell_type": "markdown",
      "metadata": {
        "id": "view-in-github",
        "colab_type": "text"
      },
      "source": [
        "<a href=\"https://colab.research.google.com/github/VishalShinde3/loop/blob/main/integer%20square%20on%20a%20while%20loop.ipynb\" target=\"_parent\"><img src=\"https://colab.research.google.com/assets/colab-badge.svg\" alt=\"Open In Colab\"/></a>"
      ]
    },
    {
      "cell_type": "code",
      "execution_count": 6,
      "metadata": {
        "colab": {
          "base_uri": "https://localhost:8080/"
        },
        "id": "Jts2MPSX6YdL",
        "outputId": "a96f97df-b2cf-4be5-d348-b69272776f4a"
      },
      "outputs": [
        {
          "output_type": "stream",
          "name": "stdout",
          "text": [
            "numbers\t\tsquares\n",
            "1 \t\t 1\n",
            "2 \t\t 4\n",
            "3 \t\t 9\n",
            "4 \t\t 16\n",
            "5 \t\t 25\n",
            "6 \t\t 36\n",
            "7 \t\t 49\n",
            "8 \t\t 64\n",
            "9 \t\t 81\n",
            "10 \t\t 100\n"
          ]
        }
      ],
      "source": [
        "# write program on to print first 10 integer and their square using while loop\n",
        "num=1\n",
        "print(\"numbers\\t\\tsquares\")\n",
        "while(num<=10):\n",
        "  print(num,\"\\t\\t\",num**2)\n",
        "  num=num+1"
      ]
    },
    {
      "cell_type": "code",
      "source": [],
      "metadata": {
        "id": "G_fS_HwQ7tU2"
      },
      "execution_count": 12,
      "outputs": []
    },
    {
      "cell_type": "code",
      "source": [],
      "metadata": {
        "id": "Ojz6TnR88xF6"
      },
      "execution_count": 13,
      "outputs": []
    }
  ]
}